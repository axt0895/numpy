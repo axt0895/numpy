{
 "cells": [
  {
   "cell_type": "code",
   "execution_count": 68,
   "id": "43244303",
   "metadata": {},
   "outputs": [],
   "source": [
    "import numpy as np\n",
    "import pandas as pd\n",
    "import matplotlib as mpl\n",
    "import matplotlib.pyplot as plt\n",
    "import seaborn as sns\n",
    "np.random.seed(42)"
   ]
  },
  {
   "cell_type": "code",
   "execution_count": 10,
   "id": "70162c3d",
   "metadata": {},
   "outputs": [
    {
     "data": {
      "text/plain": [
       "array([1, 2, 3, 4, 5])"
      ]
     },
     "execution_count": 10,
     "metadata": {},
     "output_type": "execute_result"
    }
   ],
   "source": [
    "np.array([1,2,3,4,5])"
   ]
  },
  {
   "cell_type": "code",
   "execution_count": 12,
   "id": "f98ab5d8",
   "metadata": {},
   "outputs": [
    {
     "data": {
      "text/plain": [
       "array([1. , 2. , 3. , 4.6])"
      ]
     },
     "execution_count": 12,
     "metadata": {},
     "output_type": "execute_result"
    }
   ],
   "source": [
    "np.array([1,2,3,4.6])"
   ]
  },
  {
   "cell_type": "code",
   "execution_count": 13,
   "id": "d07eccb9",
   "metadata": {},
   "outputs": [
    {
     "data": {
      "text/plain": [
       "array(['1', '2', '3', '4.6', '7'], dtype='<U32')"
      ]
     },
     "execution_count": 13,
     "metadata": {},
     "output_type": "execute_result"
    }
   ],
   "source": [
    "np.array([1,2,3,4.6,'7'])"
   ]
  },
  {
   "cell_type": "code",
   "execution_count": 21,
   "id": "9eab4db1",
   "metadata": {},
   "outputs": [
    {
     "data": {
      "text/plain": [
       "array([1, 2, 3, 4, 5], dtype=int32)"
      ]
     },
     "execution_count": 21,
     "metadata": {},
     "output_type": "execute_result"
    }
   ],
   "source": [
    "np.array([1,2,3,4,5], dtype= 'int32')"
   ]
  },
  {
   "cell_type": "code",
   "execution_count": 65,
   "id": "6f746f5e",
   "metadata": {},
   "outputs": [
    {
     "data": {
      "text/plain": [
       "array([0. , 0.2, 0.4, 0.6, 0.8, 1. ])"
      ]
     },
     "execution_count": 65,
     "metadata": {},
     "output_type": "execute_result"
    }
   ],
   "source": [
    "np.linspace(0,1,6)"
   ]
  },
  {
   "cell_type": "code",
   "execution_count": 67,
   "id": "6f06ce28",
   "metadata": {},
   "outputs": [
    {
     "data": {
      "text/plain": [
       "array([10.        , 11.42857143, 12.85714286, 14.28571429, 15.71428571,\n",
       "       17.14285714, 18.57142857, 20.        ])"
      ]
     },
     "execution_count": 67,
     "metadata": {},
     "output_type": "execute_result"
    }
   ],
   "source": [
    "np.linspace(10, 20,8)"
   ]
  },
  {
   "cell_type": "code",
   "execution_count": 70,
   "id": "9edfbdbe",
   "metadata": {},
   "outputs": [
    {
     "data": {
      "text/plain": [
       "array([[0.73199394, 0.59865848, 0.15601864, 0.15599452, 0.05808361],\n",
       "       [0.86617615, 0.60111501, 0.70807258, 0.02058449, 0.96990985],\n",
       "       [0.83244264, 0.21233911, 0.18182497, 0.18340451, 0.30424224],\n",
       "       [0.52475643, 0.43194502, 0.29122914, 0.61185289, 0.13949386]])"
      ]
     },
     "execution_count": 70,
     "metadata": {},
     "output_type": "execute_result"
    }
   ],
   "source": [
    "np.random.random((4,5))"
   ]
  },
  {
   "cell_type": "code",
   "execution_count": 71,
   "id": "f87ed53e",
   "metadata": {},
   "outputs": [
    {
     "data": {
      "text/plain": [
       "array([[0.29214465, 0.36636184, 0.45606998],\n",
       "       [0.78517596, 0.19967378, 0.51423444],\n",
       "       [0.59241457, 0.04645041, 0.60754485]])"
      ]
     },
     "execution_count": 71,
     "metadata": {},
     "output_type": "execute_result"
    }
   ],
   "source": [
    "np.random.random((3,3))"
   ]
  },
  {
   "cell_type": "code",
   "execution_count": 72,
   "id": "972a5535",
   "metadata": {},
   "outputs": [
    {
     "data": {
      "text/plain": [
       "array([[-0.60025385,  0.94743982,  0.291034  ],\n",
       "       [-0.63555974, -1.02155219, -0.16175539],\n",
       "       [-0.5336488 , -0.00552786, -0.22945045]])"
      ]
     },
     "execution_count": 72,
     "metadata": {},
     "output_type": "execute_result"
    }
   ],
   "source": [
    "np.random.normal(0,1,(3,3))"
   ]
  },
  {
   "cell_type": "code",
   "execution_count": 73,
   "id": "55b587e4",
   "metadata": {},
   "outputs": [
    {
     "data": {
      "text/plain": [
       "array([[3.31261142, 1.55855538, 2.60034011, 2.7335514 ],\n",
       "       [0.92427228, 4.84792314, 3.87566412, 4.69749471],\n",
       "       [4.47413675, 2.98949989, 4.60937118, 0.44246251]])"
      ]
     },
     "execution_count": 73,
     "metadata": {},
     "output_type": "execute_result"
    }
   ],
   "source": [
    "np.random.uniform(0,5,(3,4))"
   ]
  },
  {
   "cell_type": "code",
   "execution_count": 74,
   "id": "6b0c4695",
   "metadata": {},
   "outputs": [
    {
     "data": {
      "text/plain": [
       "array([[1.95982862, 0.45227289, 3.25330331, 3.8867729 , 2.71349032],\n",
       "       [8.28737509, 3.56753327, 2.8093451 , 5.42696083, 1.40924225],\n",
       "       [8.02196981, 0.74550644, 9.86886937, 7.72244769, 1.98715682],\n",
       "       [0.05522117, 8.15461428, 7.06857344, 7.29007168, 7.71270347]])"
      ]
     },
     "execution_count": 74,
     "metadata": {},
     "output_type": "execute_result"
    }
   ],
   "source": [
    "np.random.uniform(0,10,(4,5))"
   ]
  },
  {
   "cell_type": "code",
   "execution_count": 75,
   "id": "869d4907",
   "metadata": {},
   "outputs": [
    {
     "data": {
      "text/plain": [
       "array([[  3.89348913,  -2.0716589 ,  -6.23477395, -15.0815329 ,\n",
       "         10.99646976],\n",
       "       [ -1.77732121,  -4.10383309,  11.79716345,  -8.98207939,\n",
       "          8.34795419],\n",
       "       [  2.96561384, -10.37829877,  -0.75803745,   9.72963534,\n",
       "          7.95595464],\n",
       "       [ 14.95434253,   3.38181252,  33.72296254,  -9.20390805,\n",
       "         -3.9863839 ]])"
      ]
     },
     "execution_count": 75,
     "metadata": {},
     "output_type": "execute_result"
    }
   ],
   "source": [
    "np.random.normal(0,10,(4,5))"
   ]
  },
  {
   "cell_type": "code",
   "execution_count": 76,
   "id": "fa870ba9",
   "metadata": {},
   "outputs": [
    {
     "data": {
      "text/plain": [
       "array([[2, 6, 0, 3],\n",
       "       [3, 4, 6, 6],\n",
       "       [3, 6, 2, 5]])"
      ]
     },
     "execution_count": 76,
     "metadata": {},
     "output_type": "execute_result"
    }
   ],
   "source": [
    "np.random.randint(0,10,(3,4))"
   ]
  },
  {
   "cell_type": "code",
   "execution_count": 77,
   "id": "1233f11f",
   "metadata": {},
   "outputs": [
    {
     "data": {
      "text/plain": [
       "array([27, 65, 41, 44, 61, 56,  5, 27, 27])"
      ]
     },
     "execution_count": 77,
     "metadata": {},
     "output_type": "execute_result"
    }
   ],
   "source": [
    "np.random.choice(np.arange(100), 9)"
   ]
  },
  {
   "cell_type": "code",
   "execution_count": 78,
   "id": "de1233a3",
   "metadata": {},
   "outputs": [
    {
     "data": {
      "text/plain": [
       "array([[2.18440437e-01, 4.16509948e-01, 8.83280259e-01, 3.24345021e-01,\n",
       "        1.22087955e-01],\n",
       "       [3.56297838e-01, 9.06828442e-01, 2.72132249e-01, 6.47690121e-01,\n",
       "        5.20376995e-04],\n",
       "       [3.52568856e-01, 3.04781258e-01, 1.64655853e-01, 5.34089419e-01,\n",
       "        4.84829971e-01],\n",
       "       [6.92436033e-01, 2.69412334e-01, 2.44125522e-01, 1.68291042e-01,\n",
       "        2.18764220e-01]])"
      ]
     },
     "execution_count": 78,
     "metadata": {},
     "output_type": "execute_result"
    }
   ],
   "source": [
    "np.random.rand(4,5)"
   ]
  },
  {
   "cell_type": "code",
   "execution_count": 79,
   "id": "c672ecc6",
   "metadata": {},
   "outputs": [
    {
     "data": {
      "text/plain": [
       "array([0.558102  , 0.40383617, 0.06489225])"
      ]
     },
     "execution_count": 79,
     "metadata": {},
     "output_type": "execute_result"
    }
   ],
   "source": [
    "np.random.sample(3)"
   ]
  },
  {
   "cell_type": "code",
   "execution_count": 80,
   "id": "ac40ed28",
   "metadata": {},
   "outputs": [],
   "source": [
    "np.random.normal?"
   ]
  },
  {
   "cell_type": "code",
   "execution_count": null,
   "id": "753fcded",
   "metadata": {},
   "outputs": [],
   "source": []
  }
 ],
 "metadata": {
  "kernelspec": {
   "display_name": "Python 3 (ipykernel)",
   "language": "python",
   "name": "python3"
  },
  "language_info": {
   "codemirror_mode": {
    "name": "ipython",
    "version": 3
   },
   "file_extension": ".py",
   "mimetype": "text/x-python",
   "name": "python",
   "nbconvert_exporter": "python",
   "pygments_lexer": "ipython3",
   "version": "3.11.4"
  }
 },
 "nbformat": 4,
 "nbformat_minor": 5
}
