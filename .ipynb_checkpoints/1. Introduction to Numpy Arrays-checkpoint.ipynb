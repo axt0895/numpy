{
 "cells": [
  {
   "cell_type": "markdown",
   "id": "ea8d29ea",
   "metadata": {},
   "source": [
    "# Creating an Array from Python List"
   ]
  },
  {
   "cell_type": "code",
   "execution_count": 17,
   "id": "c777dc0d",
   "metadata": {},
   "outputs": [],
   "source": [
    "import numpy as np"
   ]
  },
  {
   "cell_type": "code",
   "execution_count": 18,
   "id": "6a8dc0c8",
   "metadata": {},
   "outputs": [
    {
     "data": {
      "text/plain": [
       "array([1, 2, 3, 4, 5])"
      ]
     },
     "execution_count": 18,
     "metadata": {},
     "output_type": "execute_result"
    }
   ],
   "source": [
    "#integer array\n",
    "np.array([1,2,3,4,5])"
   ]
  },
  {
   "cell_type": "code",
   "execution_count": 19,
   "id": "d8078e67",
   "metadata": {},
   "outputs": [
    {
     "data": {
      "text/plain": [
       "array([1. , 2. , 3. , 4.5])"
      ]
     },
     "execution_count": 19,
     "metadata": {},
     "output_type": "execute_result"
    }
   ],
   "source": [
    "#integers upcasted to floating point\n",
    "np.array([1,2,3,4.5])"
   ]
  },
  {
   "cell_type": "code",
   "execution_count": 20,
   "id": "91ad873a",
   "metadata": {},
   "outputs": [
    {
     "data": {
      "text/plain": [
       "array([1., 2., 3., 4.], dtype=float32)"
      ]
     },
     "execution_count": 20,
     "metadata": {},
     "output_type": "execute_result"
    }
   ],
   "source": [
    "#explicitly setting the data type of an array\n",
    "np.array([1,2,3,4],dtype = 'float32')"
   ]
  },
  {
   "cell_type": "markdown",
   "id": "712c35d0",
   "metadata": {},
   "source": [
    "# Creating Arrays from Scratch"
   ]
  },
  {
   "cell_type": "code",
   "execution_count": 24,
   "id": "36a4e0ca",
   "metadata": {},
   "outputs": [
    {
     "name": "stdout",
     "output_type": "stream",
     "text": [
      "[0. 0. 0. 0. 0. 0. 0. 0. 0. 0.]\n",
      "[[0. 0. 0.]\n",
      " [0. 0. 0.]\n",
      " [0. 0. 0.]]\n"
     ]
    }
   ],
   "source": [
    "#create an array of length 10 filled with zeros\n",
    "print(np.zeros(10))\n",
    "\n",
    "#two dimensional array\n",
    "print(np.zeros((3,3)))"
   ]
  },
  {
   "cell_type": "code",
   "execution_count": 26,
   "id": "43f7f87c",
   "metadata": {},
   "outputs": [
    {
     "name": "stdout",
     "output_type": "stream",
     "text": [
      "[1. 1. 1. 1.]\n",
      "[[1. 1. 1. 1.]\n",
      " [1. 1. 1. 1.]\n",
      " [1. 1. 1. 1.]]\n"
     ]
    }
   ],
   "source": [
    "#create an array of ones\n",
    "print(np.ones(4))\n",
    "\n",
    "#two dimensional array\n",
    "print(np.ones((3,4)))"
   ]
  },
  {
   "cell_type": "code",
   "execution_count": 27,
   "id": "b3566a5c",
   "metadata": {},
   "outputs": [
    {
     "name": "stdout",
     "output_type": "stream",
     "text": [
      "[[89 89 89]\n",
      " [89 89 89]\n",
      " [89 89 89]]\n"
     ]
    }
   ],
   "source": [
    "#create an array filled with given value\n",
    "print(np.full((3,3), 89))"
   ]
  },
  {
   "cell_type": "code",
   "execution_count": 28,
   "id": "df2d2423",
   "metadata": {},
   "outputs": [
    {
     "data": {
      "text/plain": [
       "array([0.  , 0.25, 0.5 , 0.75, 1.  ])"
      ]
     },
     "execution_count": 28,
     "metadata": {},
     "output_type": "execute_result"
    }
   ],
   "source": [
    "#create a array of five evenly spaced values\n",
    "np.linspace(0,1,5)"
   ]
  },
  {
   "cell_type": "code",
   "execution_count": 33,
   "id": "a0e0953f",
   "metadata": {},
   "outputs": [
    {
     "data": {
      "text/plain": [
       "array([ 0,  2,  4,  6,  8, 10, 12, 14, 16, 18])"
      ]
     },
     "execution_count": 33,
     "metadata": {},
     "output_type": "execute_result"
    }
   ],
   "source": [
    "#create an array of linear sequence\n",
    "np.arange(0,20,2)"
   ]
  },
  {
   "cell_type": "code",
   "execution_count": 35,
   "id": "73964a47",
   "metadata": {},
   "outputs": [
    {
     "data": {
      "text/plain": [
       "array([[0.14272702, 0.98778463, 0.75820721],\n",
       "       [0.12612907, 0.79891275, 0.71878707],\n",
       "       [0.26882809, 0.81964018, 0.51867221]])"
      ]
     },
     "execution_count": 35,
     "metadata": {},
     "output_type": "execute_result"
    }
   ],
   "source": [
    "#create a uniformly distributed values\n",
    "np.random.random((3,3))"
   ]
  },
  {
   "cell_type": "code",
   "execution_count": 36,
   "id": "1009d9fc",
   "metadata": {},
   "outputs": [
    {
     "data": {
      "text/plain": [
       "array([[ 0.28320442, -2.00170387,  1.01513562, -0.53620908, -0.32346442],\n",
       "       [-0.65357902, -0.25673793,  0.16488131,  1.36423172,  0.08003849],\n",
       "       [ 0.54010546, -0.45527025,  0.9093882 , -0.95345684, -0.10738318],\n",
       "       [-0.71519043,  0.54656337,  0.77988364,  0.08706196,  0.00874155]])"
      ]
     },
     "execution_count": 36,
     "metadata": {},
     "output_type": "execute_result"
    }
   ],
   "source": [
    "#create a normal distributed values\n",
    "np.random.normal(0,1,size = (4,5))"
   ]
  },
  {
   "cell_type": "code",
   "execution_count": 37,
   "id": "e3017872",
   "metadata": {},
   "outputs": [
    {
     "data": {
      "text/plain": [
       "array([[8, 9, 6, 8, 9],\n",
       "       [8, 6, 0, 0, 1],\n",
       "       [9, 0, 8, 6, 0],\n",
       "       [3, 5, 6, 3, 0]])"
      ]
     },
     "execution_count": 37,
     "metadata": {},
     "output_type": "execute_result"
    }
   ],
   "source": [
    "#create an array of random integers between two numbers\n",
    "np.random.randint(0,10,size = (4,5))"
   ]
  },
  {
   "cell_type": "code",
   "execution_count": 38,
   "id": "03005263",
   "metadata": {},
   "outputs": [
    {
     "data": {
      "text/plain": [
       "array([[1., 0., 0., 0.],\n",
       "       [0., 1., 0., 0.],\n",
       "       [0., 0., 1., 0.],\n",
       "       [0., 0., 0., 1.]])"
      ]
     },
     "execution_count": 38,
     "metadata": {},
     "output_type": "execute_result"
    }
   ],
   "source": [
    "#identity matrix\n",
    "np.eye(4)"
   ]
  },
  {
   "cell_type": "code",
   "execution_count": 41,
   "id": "7daf6972",
   "metadata": {},
   "outputs": [
    {
     "data": {
      "text/plain": [
       "array([[0.00000000e+000, 1.00937611e-320, 0.00000000e+000,\n",
       "        0.00000000e+000, 4.63461736e+228],\n",
       "       [1.16095484e-028, 3.98568237e+252, 1.96086579e+243,\n",
       "        3.64723785e+180, 1.20764713e-153],\n",
       "       [6.60697566e+265, 6.97283586e+228, 6.96770842e+252,\n",
       "        6.97283618e+228, 4.07175420e+223],\n",
       "       [2.03248908e+174, 9.08366784e+223, 4.83245960e+276,\n",
       "        8.29655075e-114, 1.09936966e+248],\n",
       "       [2.09246601e-110, 6.48224637e+170, 3.67145870e+228,\n",
       "        2.88762041e-057, 6.17582057e-322]])"
      ]
     },
     "execution_count": 41,
     "metadata": {},
     "output_type": "execute_result"
    }
   ],
   "source": [
    "#create an empty array with already intialized memmort\n",
    "np.empty((5,5))"
   ]
  },
  {
   "cell_type": "code",
   "execution_count": null,
   "id": "e521796b",
   "metadata": {},
   "outputs": [],
   "source": []
  }
 ],
 "metadata": {
  "kernelspec": {
   "display_name": "Python 3 (ipykernel)",
   "language": "python",
   "name": "python3"
  },
  "language_info": {
   "codemirror_mode": {
    "name": "ipython",
    "version": 3
   },
   "file_extension": ".py",
   "mimetype": "text/x-python",
   "name": "python",
   "nbconvert_exporter": "python",
   "pygments_lexer": "ipython3",
   "version": "3.9.12"
  }
 },
 "nbformat": 4,
 "nbformat_minor": 5
}
